{
 "cells": [
  {
   "cell_type": "markdown",
   "id": "68953438-95a3-4b3c-9bc6-b7812568e205",
   "metadata": {},
   "source": [
    "<h1>Make a classification prediction</h1>\n",
    "Please ensure `topmagd_data_bin.zip` and `masd_data_bin.zip` are unzipped before trying to access them when loading the model"
   ]
  },
  {
   "cell_type": "code",
   "execution_count": 4,
   "id": "ed7bafdf-8f5c-4520-87d9-ba0b900b4677",
   "metadata": {
    "tags": []
   },
   "outputs": [
    {
     "name": "stderr",
     "output_type": "stream",
     "text": [
      "/root/final-project/venv/lib/python3.7/site-packages/tqdm/auto.py:21: TqdmWarning: IProgress not found. Please update jupyter and ipywidgets. See https://ipywidgets.readthedocs.io/en/stable/user_install.html\n",
      "  from .autonotebook import tqdm as notebook_tqdm\n"
     ]
    }
   ],
   "source": [
    "import preprocess # Pre-written functions for OctupleMIDI\n",
    "import miditoolkit, io, torch\n",
    "import numpy as np"
   ]
  },
  {
   "cell_type": "code",
   "execution_count": 19,
   "id": "b97f3c34-4cea-40e9-96a6-65cc1c4dffb0",
   "metadata": {
    "tags": []
   },
   "outputs": [],
   "source": [
    "## Get file\n",
    "# filename = \"Blue room midi file.mid\"\n",
    "filename = \"reggae.mid\"\n",
    "# filename = \"2 of a kind.mid\"\n",
    "\n",
    "# Set params\n",
    "task = \"topmagd\" # {\"topmagd\", \"masd\"}\n",
    "fold = 0 # Only have checkpoints for 0"
   ]
  },
  {
   "cell_type": "code",
   "execution_count": 20,
   "id": "ac653325-bcc3-476e-9538-f47628917a38",
   "metadata": {
    "tags": []
   },
   "outputs": [
    {
     "name": "stdout",
     "output_type": "stream",
     "text": [
      "MIDI file converted to OctupleMIDI: (1, 0, 4, 67, 16, 20, 9, 39) ...\n",
      "OctupleMIDI as a string: 3> <3-33> <4-49> <5- ...\n"
     ]
    }
   ],
   "source": [
    "# Convert file to OctupleMIDI\n",
    "midi = miditoolkit.midi.parser.MidiFile(f\"midi/{filename}\")\n",
    "enc = preprocess.MIDI_to_encoding(midi)\n",
    "print(\"MIDI file converted to OctupleMIDI: \" + str(enc[0]) + \" ...\")\n",
    "oct_midi_str = preprocess.encoding_to_str(enc)\n",
    "print(\"OctupleMIDI as a string: \" + str(oct_midi_str[100:120]) + \" ...\")"
   ]
  },
  {
   "cell_type": "code",
   "execution_count": 21,
   "id": "bcb13103-68d5-4b77-98a8-995922c587f7",
   "metadata": {},
   "outputs": [],
   "source": [
    "# Load model\n",
    "from fairseq.models.roberta import RobertaModel\n",
    "roberta = RobertaModel.from_pretrained(\n",
    "    '.',\n",
    "    checkpoint_file=f\"final_checkpoints/checkpoint_last_genre_{task}_0_checkpoint_last_musicbert_small.pt\",\n",
    "    data_name_or_path=f\"{task}_data_bin/{fold}\",\n",
    "    user_dir=\"musicbert\"\n",
    ").cuda()\n",
    "\n",
    "# Function for retrieving Name of category\n",
    "label_fn = lambda label: roberta.task.label_dictionary.string(\n",
    "    [label + label_dict.nspecial]\n",
    ")"
   ]
  },
  {
   "cell_type": "code",
   "execution_count": 22,
   "id": "6c74b80e-1cae-44f3-a775-155b9a2f16fe",
   "metadata": {},
   "outputs": [],
   "source": [
    "# Encode OctupleMIDI into tokens and predict\n",
    "label_dict = roberta.task.label_dictionary\n",
    "tokenized = label_dict.encode_line(oct_midi_str).long()\n",
    "pred = torch.sigmoid(roberta.predict(f'{task}_head', tokenized, True)).tolist()[0]"
   ]
  },
  {
   "cell_type": "code",
   "execution_count": 23,
   "id": "91339a22-a416-4343-b13c-2821df07c600",
   "metadata": {},
   "outputs": [
    {
     "name": "stdout",
     "output_type": "stream",
     "text": [
      "Genre confidence levels for file 'reggae.mid':\n",
      "    Pop_Rock: 70.10%\n",
      "    Electronic: 57.40%\n",
      "    Rap: 18.46%\n",
      "    Latin: 13.09%\n",
      "    International: 10.22%\n",
      "    Jazz: 9.49%\n",
      "    RnB: 8.63%\n",
      "    New-Age: 4.25%\n",
      "    Folk: 3.26%\n",
      "    Reggae: 2.80%\n",
      "    Country: 2.39%\n",
      "    Vocal: 1.92%\n",
      "    Blues: 1.16%\n"
     ]
    }
   ],
   "source": [
    "## Print confidence levels\n",
    "print(f\"Genre confidence levels for file '{filename}':\")\n",
    "\n",
    "# Zip certainty values with labels\n",
    "genres = zip([label_fn(j) for j in range(0, len(pred))], pred)\n",
    "\n",
    "# Sort descending by certainty\n",
    "genres = sorted(tuple(genres), key=lambda x: x[1], reverse=True) \n",
    "\n",
    "# Format and print \n",
    "for g in genres:\n",
    "    p = 100*g[1]\n",
    "    print(\"    {}: {:.2f}%\".format(g[0], p))"
   ]
  },
  {
   "cell_type": "markdown",
   "id": "4063e094-fa7a-47a1-9774-917e4a0b0cb9",
   "metadata": {},
   "source": [
    "<h1>Evaluate classification predictions</h1>\n",
    "Assesses the effect of the imbalance in data by iterating multiple files that are <b>not</b> labelled as 'Pop Rock' and counts incorrect predictions.\n",
    "<ul><li>Please unzip `topmagd_data_raw.zip` and `lmd_matched.zip` before using this functionality</ul>\n",
    "<hr>\n",
    "<h5>Supporting functions:</h5>"
   ]
  },
  {
   "cell_type": "code",
   "execution_count": 24,
   "id": "bc5a2f15-de8e-43e6-9028-bcdf78867ad0",
   "metadata": {
    "tags": []
   },
   "outputs": [],
   "source": [
    "## Function to find files that aren't pop rock and test predictions:\n",
    "from random import randint\n",
    "def get_non_pop_rock(fold, count, subset, start_rand=False):\n",
    "    filepath = f\"topmagd_data_raw/{fold}/{subset}\"\n",
    "    linestart = 1 if not start_rand else randint(1, get_line_count(f\"{filepath}.label\")) # Random start point\n",
    "    \n",
    "    # Get line nums in label file not containing 'Pop_rock'\n",
    "    line_nums = set([])\n",
    "    with open(f\"{filepath}.label\") as f:\n",
    "        # length = sum(1 for l in f)\n",
    "        print(f\"Starting from line {linestart}.\")\n",
    "        \n",
    "        n = 1\n",
    "        for line in f:\n",
    "            if n < linestart:\n",
    "                n += 1\n",
    "                continue # skip iteration if before starting point\n",
    "                \n",
    "            if \"Pop_Rock\" not in line.split():\n",
    "                line_nums.add(n)\n",
    "            n += 1\n",
    "            \n",
    "            # Finish if hit count\n",
    "            if len(line_nums) >= count:\n",
    "                break\n",
    "\n",
    "    # Get id's from line numbers in id file\n",
    "    ids = set([])\n",
    "    with open(f\"{filepath}.id\") as f:\n",
    "        n = 1\n",
    "        for line in f:\n",
    "            if n in line_nums:\n",
    "                ids.add(line.strip() + \".mid\") # Strip newline and add file extension\n",
    "            n += 1\n",
    "            \n",
    "            # Finish if hit count\n",
    "            if len(ids) >= count:\n",
    "                break\n",
    "    return ids\n",
    "\n",
    "    \n",
    "# Helper func for use in random starting points\n",
    "def get_line_count(file_path):\n",
    "    with open(file_path, 'r') as file:\n",
    "        line_count = sum(1 for l in file)\n",
    "    return line_count"
   ]
  },
  {
   "cell_type": "code",
   "execution_count": 25,
   "id": "3d74fbf6-a6ab-4418-b835-fc4e3d15472c",
   "metadata": {
    "tags": []
   },
   "outputs": [],
   "source": [
    "# function to fetch paths of filenames (as we don't know parent folders)\n",
    "import os\n",
    "def get_paths(test_files, count):\n",
    "    paths = set([])\n",
    "    print(\"Searching lmd_matched\")\n",
    "    wlk = os.walk(\"lmd_matched\")\n",
    "    for root, _, files in wlk:\n",
    "        for file in files:\n",
    "            if file in test_files:\n",
    "                paths.add(os.path.join(root, file))\n",
    "                print(f\"Found {file} - {len(paths)}/{count}\")\n",
    "                if len(paths) >= count:\n",
    "                    return paths\n",
    "    return paths"
   ]
  },
  {
   "cell_type": "code",
   "execution_count": 26,
   "id": "5c71845a-181a-4796-85ff-d138995e1212",
   "metadata": {
    "tags": []
   },
   "outputs": [],
   "source": [
    "# Function to predict the genre/style of files in a filelist\n",
    "def predict_files(files, detail=False):\n",
    "    preds = []\n",
    "    for file in files:\n",
    "        # Get oct:\n",
    "        midi = miditoolkit.midi.parser.MidiFile(file)\n",
    "        enc = preprocess.MIDI_to_encoding(midi)\n",
    "        oct_midi_str = preprocess.encoding_to_str(enc)\n",
    "        # Encode:\n",
    "        tokenized = label_dict.encode_line(oct_midi_str).long()\n",
    "        # Predict:\n",
    "        pred = torch.sigmoid(roberta.predict('topmagd_head', tokenized, True)).tolist()[0]\n",
    "        # Format:\n",
    "        genres = zip([label_fn(j) for j in range(0, len(pred))], pred)\n",
    "        genres = sorted(tuple(genres), key=lambda x: x[1], reverse=True) \n",
    "        preds.append(genres[0])\n",
    "        # Print details \n",
    "        if detail:\n",
    "            print(f\"Genre predictions for {file}:\")\n",
    "            for g in genres:\n",
    "                p = 100*g[1]\n",
    "                print(\"    {}: {:.2f}%\".format(g[0], p)) # Format prediction\n",
    "            print(\"--\")\n",
    "    return preds"
   ]
  },
  {
   "cell_type": "markdown",
   "id": "2e6ee697-9844-42ed-a1ad-a740d931d2b2",
   "metadata": {},
   "source": [
    "<h5>Tweak parameters and evaluate:</h5>"
   ]
  },
  {
   "cell_type": "code",
   "execution_count": 27,
   "id": "2cf91f6f-390b-4b64-91a6-5bbdf7e02122",
   "metadata": {},
   "outputs": [
    {
     "name": "stdout",
     "output_type": "stream",
     "text": [
      "Starting from line 1529.\n",
      "Searching lmd_matched\n",
      "Found 7aacc203eed5109931465906ab66107f.mid - 1/50\n",
      "Found c2dd5209834257c64acd6d0bcaed201f.mid - 2/50\n",
      "Found 4d7d87c3aa300ef8bee345558426c34c.mid - 3/50\n",
      "Found 01bc0adc044ca7061edfd808dcdcb170.mid - 4/50\n",
      "Found 81059f7c4f020ab4a404706dd976c884.mid - 5/50\n",
      "Found a1f4cc4b564b1bc12739563be42de256.mid - 6/50\n",
      "Found 77f13e906ed5e77c0e3f32c823292469.mid - 7/50\n",
      "Found 7e835b3e1d53b20aba77ff3899ff750c.mid - 8/50\n",
      "Found c2dd5209834257c64acd6d0bcaed201f.mid - 9/50\n",
      "Found 4e269ff0883fb58e84f95bdcdf4280d0.mid - 10/50\n",
      "Found e936c5d842307753024dbc967c6fa339.mid - 11/50\n",
      "Found 7aacc203eed5109931465906ab66107f.mid - 12/50\n",
      "Found a8e070874d727af3f0c6a35d96b2e467.mid - 13/50\n",
      "Found fb853997ca50718ce2c6d51d87e28712.mid - 14/50\n",
      "Found 1c400411d020c6070b3081b1c75a8036.mid - 15/50\n",
      "Found 0ecccc464ac97dce6f3239919fc50c89.mid - 16/50\n",
      "Found bbd41c52600531e2ccd6e3590b1e942c.mid - 17/50\n",
      "Found e1a44ea887e62185f8b0c61606ace589.mid - 18/50\n",
      "Found 7e835b3e1d53b20aba77ff3899ff750c.mid - 19/50\n",
      "Found 96829ea1685fbc2aba0fd279d993e641.mid - 20/50\n",
      "Found 4e269ff0883fb58e84f95bdcdf4280d0.mid - 21/50\n",
      "Found 8947a37e076c0532c590edbdadd6c9de.mid - 22/50\n",
      "Found 842ba942b7e724610dadb1be3e88c845.mid - 23/50\n",
      "Found 653b2d2ec53c43f3c73de227ff028321.mid - 24/50\n",
      "Found ed14532229f91d1671c5e814a1087810.mid - 25/50\n",
      "Found 598b9a5d2b3f4a4501fcd152c39610a8.mid - 26/50\n",
      "Found 381a3bbada1de96aedf1f461da080d06.mid - 27/50\n",
      "Found 9727d5c32ff6aba8cd0b2dbd54fe5743.mid - 28/50\n",
      "Found dccc20c94fdf38819a72e6f443454cbb.mid - 29/50\n",
      "Found 2f004e3a2a94c131947894c5f0c67d02.mid - 30/50\n",
      "Found 171b109709ca3c68720dfb4e409251a2.mid - 31/50\n",
      "Found a564e2536b12d22289d238d5398eb70b.mid - 32/50\n",
      "Found 97b8e8578e7669ed5dd265b52a08a429.mid - 33/50\n",
      "Found 3a93f598790ed46d36b87e1b313fb556.mid - 34/50\n",
      "Found fb853997ca50718ce2c6d51d87e28712.mid - 35/50\n",
      "Found 336eb0756df723679b1707f22c08056c.mid - 36/50\n",
      "Found 7e835b3e1d53b20aba77ff3899ff750c.mid - 37/50\n",
      "Found 598b9a5d2b3f4a4501fcd152c39610a8.mid - 38/50\n",
      "Found 3c1100f387632f1b5aecd9b13a98df36.mid - 39/50\n",
      "Found 68b879c8f4175384346c53646bd17d71.mid - 40/50\n",
      "Found b68fdde9f69ebdec24269c9dc266a983.mid - 41/50\n",
      "Found 5bb28172f93116ef84dc6bae961bc2b2.mid - 42/50\n",
      "Found f26d936775827edd58ac22e3cdc4bb61.mid - 43/50\n",
      "Found c40aa57387b875fb58f0ea8a7785424a.mid - 44/50\n",
      "Found d6d87a1472dd5ae4df938551f0edf917.mid - 45/50\n",
      "Found e376b471f4e0397ebea00b22b5807f6e.mid - 46/50\n",
      "Found a38331e0d560d41d64e352257b46fc1e.mid - 47/50\n",
      "Found bbd41c52600531e2ccd6e3590b1e942c.mid - 48/50\n",
      "Found fb5b8d1702b76ff27cdcc21245f78af3.mid - 49/50\n",
      "Found 6c5906510e08d901717e53e987c71fc3.mid - 50/50\n",
      "Classification predictions of non-'Pop Rock' samples\n",
      "[('Pop_Rock', 0.7647813558578491), ('Pop_Rock', 0.7381758093833923), ('Pop_Rock', 0.7117587924003601), ('Pop_Rock', 0.7030293345451355), ('Pop_Rock', 0.7291802763938904), ('Pop_Rock', 0.7651863694190979), ('Pop_Rock', 0.6896452903747559), ('Pop_Rock', 0.7687587738037109), ('Pop_Rock', 0.7387165427207947), ('Pop_Rock', 0.7414711117744446), ('Pop_Rock', 0.717581570148468), ('Pop_Rock', 0.7590100169181824), ('Pop_Rock', 0.734846830368042), ('Pop_Rock', 0.6481707692146301), ('Pop_Rock', 0.677280068397522), ('Pop_Rock', 0.750706672668457), ('Pop_Rock', 0.7563287019729614), ('Pop_Rock', 0.7219836711883545), ('Pop_Rock', 0.7395482063293457), ('Pop_Rock', 0.734641969203949), ('Pop_Rock', 0.7092317342758179), ('Pop_Rock', 0.7271550297737122), ('Pop_Rock', 0.7379382848739624), ('Pop_Rock', 0.7375574707984924), ('Pop_Rock', 0.675259530544281), ('Pop_Rock', 0.6885159015655518), ('Pop_Rock', 0.7102668881416321), ('Pop_Rock', 0.7363261580467224), ('Pop_Rock', 0.7348753213882446), ('Pop_Rock', 0.7446915507316589), ('Pop_Rock', 0.716375470161438), ('Pop_Rock', 0.7493367195129395), ('Pop_Rock', 0.7784915566444397), ('Pop_Rock', 0.7199969291687012), ('Pop_Rock', 0.7707632780075073), ('Pop_Rock', 0.735634982585907), ('Pop_Rock', 0.691989541053772), ('Pop_Rock', 0.7384513020515442), ('Pop_Rock', 0.7259764075279236), ('Pop_Rock', 0.7598520517349243), ('Pop_Rock', 0.7565497159957886), ('Pop_Rock', 0.7346862554550171), ('Pop_Rock', 0.7852455973625183), ('Pop_Rock', 0.7048145532608032), ('Pop_Rock', 0.7194089293479919), ('Pop_Rock', 0.759377121925354), ('Pop_Rock', 0.7865643501281738), ('Pop_Rock', 0.7560880184173584), ('Pop_Rock', 0.7756317853927612), ('Pop_Rock', 0.7352427840232849)]\n",
      "\n",
      "For files NOT labelled 'Pop_Rock', model incorrectly predicted 'Pop_Rock' 50 out of 50 times averaging 73.39% confidence\n"
     ]
    }
   ],
   "source": [
    "fld = 0 # Fold number for data\n",
    "cnt = 50 # Number of files to test\n",
    "sub = \"test\" # Subset of fold to test. Possible values: {\"train\", \"test\"}\n",
    "start_rand = True\n",
    "\n",
    "# Get id's\n",
    "files = get_non_pop_rock(fld, cnt, sub, start_rand=start_rand)\n",
    "# Fetch paths for id's\n",
    "paths = get_paths(files, cnt)\n",
    "# Predict for each file\n",
    "preds = predict_files(paths)\n",
    "\n",
    "# Print stats\n",
    "print(f\"Classification predictions of non-'Pop Rock' samples\")\n",
    "print(f\"{preds}\\n\")\n",
    "\n",
    "incorr = 0\n",
    "confs = [] # Confidence levels showing how certain the model was with its incorrect prediction\n",
    "for p in preds:\n",
    "    if p[0] == \"Pop_Rock\":\n",
    "        incorr += 1\n",
    "        confs.append(p[1]*100)\n",
    "        \n",
    "av_conf = sum(confs)/len(confs)\n",
    "print(\"For files NOT labelled 'Pop_Rock', model incorrectly predicted 'Pop_Rock' {} out of {} times averaging {:.2f}% confidence\".format(incorr, cnt, av_conf))\n"
   ]
  }
 ],
 "metadata": {
  "kernelspec": {
   "display_name": "Python 3 (ipykernel)",
   "language": "python",
   "name": "python3"
  },
  "language_info": {
   "codemirror_mode": {
    "name": "ipython",
    "version": 3
   },
   "file_extension": ".py",
   "mimetype": "text/x-python",
   "name": "python",
   "nbconvert_exporter": "python",
   "pygments_lexer": "ipython3",
   "version": "3.7.16"
  }
 },
 "nbformat": 4,
 "nbformat_minor": 5
}
